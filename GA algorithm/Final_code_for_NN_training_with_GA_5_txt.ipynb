{
  "nbformat": 4,
  "nbformat_minor": 0,
  "metadata": {
    "colab": {
      "name": "Final_code_for_NN_training_with_GA 5.txt",
      "provenance": [],
      "collapsed_sections": [],
      "machine_shape": "hm"
    },
    "kernelspec": {
      "name": "python3",
      "display_name": "Python 3"
    },
    "language_info": {
      "name": "python"
    },
    "accelerator": "GPU",
    "gpuClass": "standard"
  },
  "cells": [
    {
      "cell_type": "markdown",
      "source": [
        "#1. Required Libraries (in Colab)"
      ],
      "metadata": {
        "id": "nhBltOPPzd6L"
      }
    },
    {
      "cell_type": "code",
      "execution_count": null,
      "metadata": {
        "colab": {
          "base_uri": "https://localhost:8080/"
        },
        "id": "AC9D1QdFWjDL",
        "outputId": "f51a6bc9-6814-4f3b-d98a-36b015e9a6c8"
      },
      "outputs": [
        {
          "output_type": "stream",
          "name": "stdout",
          "text": [
            "Looking in indexes: https://pypi.org/simple, https://us-python.pkg.dev/colab-wheels/public/simple/\n",
            "Requirement already satisfied: keras in /usr/local/lib/python3.7/dist-packages (2.8.0)\n",
            "Looking in indexes: https://pypi.org/simple, https://us-python.pkg.dev/colab-wheels/public/simple/\n",
            "Collecting ann_visualizer\n",
            "  Downloading ann_visualizer-2.5.tar.gz (4.7 kB)\n",
            "Building wheels for collected packages: ann-visualizer\n",
            "  Building wheel for ann-visualizer (setup.py) ... \u001b[?25l\u001b[?25hdone\n",
            "  Created wheel for ann-visualizer: filename=ann_visualizer-2.5-py3-none-any.whl size=4168 sha256=2d7f545d23dae19b168f62de2c7c25cd52e59fa1fb7e3e22e19b74e474f66390\n",
            "  Stored in directory: /root/.cache/pip/wheels/1b/fc/58/2ab1c3b30350105929308becddda4fb59b1358e54f985e1f4a\n",
            "Successfully built ann-visualizer\n",
            "Installing collected packages: ann-visualizer\n",
            "Successfully installed ann-visualizer-2.5\n",
            "Looking in indexes: https://pypi.org/simple, https://us-python.pkg.dev/colab-wheels/public/simple/\n",
            "Requirement already satisfied: graphviz in /usr/local/lib/python3.7/dist-packages (0.10.1)\n"
          ]
        }
      ],
      "source": [
        "!pip install keras\n",
        "!pip install ann_visualizer\n",
        "!pip install graphviz\n",
        "\n",
        "!pip install pygad>=2.10.0"
      ]
    },
    {
      "cell_type": "markdown",
      "source": [
        "#2. Import libraries"
      ],
      "metadata": {
        "id": "jm-RGszEzxfI"
      }
    },
    {
      "cell_type": "code",
      "source": [
        "import pandas as pd\n",
        "import numpy as np\n",
        "import tensorflow as tf\n",
        "import seaborn as sns\n",
        "import matplotlib.pyplot as plt\n",
        "import tensorflow\n",
        "import glob\n",
        "import tensorflow.keras\n",
        "import pygad.kerasga\n",
        "import numpy\n",
        "import pygad\n",
        "import keras\n",
        "\n",
        "from keras.models import Sequential\n",
        "from keras.layers import Dense,Input\n",
        "from keras.utils.vis_utils import plot_model\n",
        "from ann_visualizer.visualize import ann_viz\n",
        "from sklearn.model_selection import train_test_split"
      ],
      "metadata": {
        "id": "BdknoQ-wW1tS"
      },
      "execution_count": null,
      "outputs": []
    },
    {
      "cell_type": "markdown",
      "source": [
        "#3 Loading Dataset"
      ],
      "metadata": {
        "id": "xZN4ynbJz6Z2"
      }
    },
    {
      "cell_type": "markdown",
      "source": [
        "##3-A. First Dataset\n",
        "\n",
        "\n",
        "*   If you want to try next dataset, skip the following block and run the second dataset block\n",
        "\n",
        "\n"
      ],
      "metadata": {
        "id": "xMzVD1hW0Pz4"
      }
    },
    {
      "cell_type": "code",
      "source": [
        "\n",
        "#data = pd.read_csv('/content/drive/MyDrive/GA algorithm/GA algorithm/data.csv')\n"
      ],
      "metadata": {
        "id": "11emPiOGP5m1"
      },
      "execution_count": null,
      "outputs": []
    },
    {
      "cell_type": "markdown",
      "source": [
        "##3-B Second Dataset\n",
        "\n",
        "\n",
        "*   If you want to try second dataset, run following block,(Skip pervoius one)\n",
        "\n",
        "\n",
        "*   The following block include specific functions and code which are only needed for Mendeley data to prepare it for training\n",
        "\n",
        "*    The mendley data comes from https://data.mendeley.com/datasets/j89csb932y/2. The reseach papers are cited in the link with the complete dataset. \n",
        "\n",
        "\n",
        "* We used the dataset for small and medium sized enterprises (Solvak) to determine bankruptcy. The dataset comprises of the companies that are not indexed in the stock market. The industries are small and medium sized industries. We choose to work on this dataset to develop techniques on the data that had limited statistics compared to the companies in stock market, that usually have data and analyses available on every aspect of the business.  The data comprises of three years and 21 features per year which are divided into two classes (Bankrupt and Non-Bankrupt). The annotation of the dataset considered both bankruptcy procedures and restructuring process. It spans over four industries namely Agriculture, Construction, Manufacture and Retail. Different Slovak companies in the dataset allow to understand the results better and to diminish bias created by the single nature/type of the company. \n",
        "\n",
        "* Input are the features in the dataset (columns) that indicate the financial features extracted from the dataset. The values were already given in the dataset, we fed it to the model and obtained results. In total we have 63 (21 per year) features. The details of the features are in the report. \n",
        "\n"
      ],
      "metadata": {
        "id": "F4e_KqHN2NIa"
      }
    },
    {
      "cell_type": "code",
      "source": [
        "from google.colab import drive\n",
        "drive.mount('/content/drive')"
      ],
      "metadata": {
        "colab": {
          "base_uri": "https://localhost:8080/"
        },
        "id": "cdwCT7JvrTy5",
        "outputId": "5a379d2b-14aa-4e57-e6bf-cda31c041929"
      },
      "execution_count": 1,
      "outputs": [
        {
          "output_type": "stream",
          "name": "stdout",
          "text": [
            "Mounted at /content/drive\n"
          ]
        }
      ]
    },
    {
      "cell_type": "code",
      "source": [
        "#The path takes all the CSV files in the folder and then processes them. All the files will be added after the labels are extracted from the file names and then saved in a single dataframe. \n",
        "path = r'/content/drive/MyDrive/GA algorithm/GA algorithm/Mendeley_data' # use your path for the Mendeley Data folder containing all csv files\n",
        "all_files = glob.glob(path + \"/*.csv\") # List of path for all csv files\n",
        "\n",
        "data_frames = []# An empty DataFrame so we can add all csvs together\n",
        "\n",
        "for filename in all_files:\n",
        "    label=filename.split('/')[-1].split('_')[0] # extracting labels from csv file names\n",
        "    \n",
        "    df = pd.read_csv(filename, index_col=None, header=0, sep=';')\n",
        "    df['Bankrupt?']=label\n",
        "    data_frames.append(df)\n",
        "\n",
        "data = pd.concat(data_frames, axis=0, ignore_index=True)# Concating all csv files togather\n",
        "\n",
        "del data['Unnamed: 0'] # removing an extra index\n",
        "\n",
        "#data=data.fillna(0.0) # filling null cells with zero\n",
        "\n",
        "clmns=data.columns.to_list() #extracting all columns in the obtained dataframe for further processing except label column\n",
        "clmns.remove('Bankrupt?')\n",
        "\n",
        "\n",
        "def EroupToFloat(x):# A function to convert all numbers from Eroupean style to float numbers, e.g., 8,69 to 8.69\n",
        "  if ',' in str(x):\n",
        "    return float(x.replace(',','.'))\n",
        "  else: return float(x)\n",
        "\n",
        "\n",
        "# Applying above function to all cells in dataframe also calucalting mean of the each column and filling missing value with that mean value\n",
        "for column in clmns:\n",
        "  data[column]=[EroupToFloat(x) for x in data[column]]\n",
        "  mean_value=data[column].mean()#calculating mean of the particular column\n",
        "  \n",
        "  data[column].fillna(value=mean_value, inplace=True) # filling miising cells with mean\n",
        "\n",
        "\n",
        "\n",
        "def label2id(x): #function to covert string labels to ids\n",
        "  if x=='bankrupt':return 1\n",
        "  else: return 0\n",
        "\n",
        "\n",
        "data['Bankrupt?']=[label2id(x) for x in data['Bankrupt?']]\n"
      ],
      "metadata": {
        "id": "KIiu3nBBP5p2"
      },
      "execution_count": null,
      "outputs": []
    },
    {
      "cell_type": "markdown",
      "source": [
        "##The rest of code from this point are same for both datasets"
      ],
      "metadata": {
        "id": "zU8tq1Al50HR"
      }
    },
    {
      "cell_type": "code",
      "source": [
        "data.head()#print first 5 rows of dataset"
      ],
      "metadata": {
        "colab": {
          "base_uri": "https://localhost:8080/",
          "height": 300
        },
        "id": "_eWVOXY65oql",
        "outputId": "eb0eeb6b-fb35-415c-8fd1-3c8574aebc96"
      },
      "execution_count": null,
      "outputs": [
        {
          "output_type": "execute_result",
          "data": {
            "text/plain": [
              "      V1     V2     V3    V4    V5    V6      V7      V8      V9     V10  ...  \\\n",
              "0   0.36   0.82   0.86  0.04  0.20  0.44  873.17   71.33  394.98  108.05  ...   \n",
              "1  12.88  47.87  10.43  0.08  1.10  1.29  294.68  217.67  212.72   39.46  ...   \n",
              "2  -0.61  -1.48  -0.07  0.96  0.37  0.97   38.77   -6.26   10.76    6.49  ...   \n",
              "3  -9.27 -46.25  -3.41  0.32  0.88  1.17  133.82   49.52   87.54   25.84  ...   \n",
              "4   0.03   0.36   0.02  0.22  0.65  1.14  249.10   92.67  158.68  106.92  ...   \n",
              "\n",
              "     V55    V56    V57    V58        V59          V60    V61    V62    V63  \\\n",
              "0   2.50   5.28  59.93   8.69   0.650000   7958.39000   0.73  12.78  43.62   \n",
              "1   2.71   9.30  63.12  23.95   1.150000  20843.50000   0.00   5.85  30.45   \n",
              "2   4.95   0.67  79.82  14.98   0.340000  19030.60399  39.18   1.34  42.14   \n",
              "3   5.41  12.93  81.52  29.45   0.850000  19030.60399  44.11   5.85  24.28   \n",
              "4  59.65  26.85  98.32   0.06  23.851035  10113.00000  34.65  15.95  86.75   \n",
              "\n",
              "   Bankrupt?  \n",
              "0          0  \n",
              "1          0  \n",
              "2          0  \n",
              "3          0  \n",
              "4          0  \n",
              "\n",
              "[5 rows x 64 columns]"
            ],
            "text/html": [
              "\n",
              "  <div id=\"df-f969db13-f9be-4e92-9567-b79f8ec1cd18\">\n",
              "    <div class=\"colab-df-container\">\n",
              "      <div>\n",
              "<style scoped>\n",
              "    .dataframe tbody tr th:only-of-type {\n",
              "        vertical-align: middle;\n",
              "    }\n",
              "\n",
              "    .dataframe tbody tr th {\n",
              "        vertical-align: top;\n",
              "    }\n",
              "\n",
              "    .dataframe thead th {\n",
              "        text-align: right;\n",
              "    }\n",
              "</style>\n",
              "<table border=\"1\" class=\"dataframe\">\n",
              "  <thead>\n",
              "    <tr style=\"text-align: right;\">\n",
              "      <th></th>\n",
              "      <th>V1</th>\n",
              "      <th>V2</th>\n",
              "      <th>V3</th>\n",
              "      <th>V4</th>\n",
              "      <th>V5</th>\n",
              "      <th>V6</th>\n",
              "      <th>V7</th>\n",
              "      <th>V8</th>\n",
              "      <th>V9</th>\n",
              "      <th>V10</th>\n",
              "      <th>...</th>\n",
              "      <th>V55</th>\n",
              "      <th>V56</th>\n",
              "      <th>V57</th>\n",
              "      <th>V58</th>\n",
              "      <th>V59</th>\n",
              "      <th>V60</th>\n",
              "      <th>V61</th>\n",
              "      <th>V62</th>\n",
              "      <th>V63</th>\n",
              "      <th>Bankrupt?</th>\n",
              "    </tr>\n",
              "  </thead>\n",
              "  <tbody>\n",
              "    <tr>\n",
              "      <th>0</th>\n",
              "      <td>0.36</td>\n",
              "      <td>0.82</td>\n",
              "      <td>0.86</td>\n",
              "      <td>0.04</td>\n",
              "      <td>0.20</td>\n",
              "      <td>0.44</td>\n",
              "      <td>873.17</td>\n",
              "      <td>71.33</td>\n",
              "      <td>394.98</td>\n",
              "      <td>108.05</td>\n",
              "      <td>...</td>\n",
              "      <td>2.50</td>\n",
              "      <td>5.28</td>\n",
              "      <td>59.93</td>\n",
              "      <td>8.69</td>\n",
              "      <td>0.650000</td>\n",
              "      <td>7958.39000</td>\n",
              "      <td>0.73</td>\n",
              "      <td>12.78</td>\n",
              "      <td>43.62</td>\n",
              "      <td>0</td>\n",
              "    </tr>\n",
              "    <tr>\n",
              "      <th>1</th>\n",
              "      <td>12.88</td>\n",
              "      <td>47.87</td>\n",
              "      <td>10.43</td>\n",
              "      <td>0.08</td>\n",
              "      <td>1.10</td>\n",
              "      <td>1.29</td>\n",
              "      <td>294.68</td>\n",
              "      <td>217.67</td>\n",
              "      <td>212.72</td>\n",
              "      <td>39.46</td>\n",
              "      <td>...</td>\n",
              "      <td>2.71</td>\n",
              "      <td>9.30</td>\n",
              "      <td>63.12</td>\n",
              "      <td>23.95</td>\n",
              "      <td>1.150000</td>\n",
              "      <td>20843.50000</td>\n",
              "      <td>0.00</td>\n",
              "      <td>5.85</td>\n",
              "      <td>30.45</td>\n",
              "      <td>0</td>\n",
              "    </tr>\n",
              "    <tr>\n",
              "      <th>2</th>\n",
              "      <td>-0.61</td>\n",
              "      <td>-1.48</td>\n",
              "      <td>-0.07</td>\n",
              "      <td>0.96</td>\n",
              "      <td>0.37</td>\n",
              "      <td>0.97</td>\n",
              "      <td>38.77</td>\n",
              "      <td>-6.26</td>\n",
              "      <td>10.76</td>\n",
              "      <td>6.49</td>\n",
              "      <td>...</td>\n",
              "      <td>4.95</td>\n",
              "      <td>0.67</td>\n",
              "      <td>79.82</td>\n",
              "      <td>14.98</td>\n",
              "      <td>0.340000</td>\n",
              "      <td>19030.60399</td>\n",
              "      <td>39.18</td>\n",
              "      <td>1.34</td>\n",
              "      <td>42.14</td>\n",
              "      <td>0</td>\n",
              "    </tr>\n",
              "    <tr>\n",
              "      <th>3</th>\n",
              "      <td>-9.27</td>\n",
              "      <td>-46.25</td>\n",
              "      <td>-3.41</td>\n",
              "      <td>0.32</td>\n",
              "      <td>0.88</td>\n",
              "      <td>1.17</td>\n",
              "      <td>133.82</td>\n",
              "      <td>49.52</td>\n",
              "      <td>87.54</td>\n",
              "      <td>25.84</td>\n",
              "      <td>...</td>\n",
              "      <td>5.41</td>\n",
              "      <td>12.93</td>\n",
              "      <td>81.52</td>\n",
              "      <td>29.45</td>\n",
              "      <td>0.850000</td>\n",
              "      <td>19030.60399</td>\n",
              "      <td>44.11</td>\n",
              "      <td>5.85</td>\n",
              "      <td>24.28</td>\n",
              "      <td>0</td>\n",
              "    </tr>\n",
              "    <tr>\n",
              "      <th>4</th>\n",
              "      <td>0.03</td>\n",
              "      <td>0.36</td>\n",
              "      <td>0.02</td>\n",
              "      <td>0.22</td>\n",
              "      <td>0.65</td>\n",
              "      <td>1.14</td>\n",
              "      <td>249.10</td>\n",
              "      <td>92.67</td>\n",
              "      <td>158.68</td>\n",
              "      <td>106.92</td>\n",
              "      <td>...</td>\n",
              "      <td>59.65</td>\n",
              "      <td>26.85</td>\n",
              "      <td>98.32</td>\n",
              "      <td>0.06</td>\n",
              "      <td>23.851035</td>\n",
              "      <td>10113.00000</td>\n",
              "      <td>34.65</td>\n",
              "      <td>15.95</td>\n",
              "      <td>86.75</td>\n",
              "      <td>0</td>\n",
              "    </tr>\n",
              "  </tbody>\n",
              "</table>\n",
              "<p>5 rows × 64 columns</p>\n",
              "</div>\n",
              "      <button class=\"colab-df-convert\" onclick=\"convertToInteractive('df-f969db13-f9be-4e92-9567-b79f8ec1cd18')\"\n",
              "              title=\"Convert this dataframe to an interactive table.\"\n",
              "              style=\"display:none;\">\n",
              "        \n",
              "  <svg xmlns=\"http://www.w3.org/2000/svg\" height=\"24px\"viewBox=\"0 0 24 24\"\n",
              "       width=\"24px\">\n",
              "    <path d=\"M0 0h24v24H0V0z\" fill=\"none\"/>\n",
              "    <path d=\"M18.56 5.44l.94 2.06.94-2.06 2.06-.94-2.06-.94-.94-2.06-.94 2.06-2.06.94zm-11 1L8.5 8.5l.94-2.06 2.06-.94-2.06-.94L8.5 2.5l-.94 2.06-2.06.94zm10 10l.94 2.06.94-2.06 2.06-.94-2.06-.94-.94-2.06-.94 2.06-2.06.94z\"/><path d=\"M17.41 7.96l-1.37-1.37c-.4-.4-.92-.59-1.43-.59-.52 0-1.04.2-1.43.59L10.3 9.45l-7.72 7.72c-.78.78-.78 2.05 0 2.83L4 21.41c.39.39.9.59 1.41.59.51 0 1.02-.2 1.41-.59l7.78-7.78 2.81-2.81c.8-.78.8-2.07 0-2.86zM5.41 20L4 18.59l7.72-7.72 1.47 1.35L5.41 20z\"/>\n",
              "  </svg>\n",
              "      </button>\n",
              "      \n",
              "  <style>\n",
              "    .colab-df-container {\n",
              "      display:flex;\n",
              "      flex-wrap:wrap;\n",
              "      gap: 12px;\n",
              "    }\n",
              "\n",
              "    .colab-df-convert {\n",
              "      background-color: #E8F0FE;\n",
              "      border: none;\n",
              "      border-radius: 50%;\n",
              "      cursor: pointer;\n",
              "      display: none;\n",
              "      fill: #1967D2;\n",
              "      height: 32px;\n",
              "      padding: 0 0 0 0;\n",
              "      width: 32px;\n",
              "    }\n",
              "\n",
              "    .colab-df-convert:hover {\n",
              "      background-color: #E2EBFA;\n",
              "      box-shadow: 0px 1px 2px rgba(60, 64, 67, 0.3), 0px 1px 3px 1px rgba(60, 64, 67, 0.15);\n",
              "      fill: #174EA6;\n",
              "    }\n",
              "\n",
              "    [theme=dark] .colab-df-convert {\n",
              "      background-color: #3B4455;\n",
              "      fill: #D2E3FC;\n",
              "    }\n",
              "\n",
              "    [theme=dark] .colab-df-convert:hover {\n",
              "      background-color: #434B5C;\n",
              "      box-shadow: 0px 1px 3px 1px rgba(0, 0, 0, 0.15);\n",
              "      filter: drop-shadow(0px 1px 2px rgba(0, 0, 0, 0.3));\n",
              "      fill: #FFFFFF;\n",
              "    }\n",
              "  </style>\n",
              "\n",
              "      <script>\n",
              "        const buttonEl =\n",
              "          document.querySelector('#df-f969db13-f9be-4e92-9567-b79f8ec1cd18 button.colab-df-convert');\n",
              "        buttonEl.style.display =\n",
              "          google.colab.kernel.accessAllowed ? 'block' : 'none';\n",
              "\n",
              "        async function convertToInteractive(key) {\n",
              "          const element = document.querySelector('#df-f969db13-f9be-4e92-9567-b79f8ec1cd18');\n",
              "          const dataTable =\n",
              "            await google.colab.kernel.invokeFunction('convertToInteractive',\n",
              "                                                     [key], {});\n",
              "          if (!dataTable) return;\n",
              "\n",
              "          const docLinkHtml = 'Like what you see? Visit the ' +\n",
              "            '<a target=\"_blank\" href=https://colab.research.google.com/notebooks/data_table.ipynb>data table notebook</a>'\n",
              "            + ' to learn more about interactive tables.';\n",
              "          element.innerHTML = '';\n",
              "          dataTable['output_type'] = 'display_data';\n",
              "          await google.colab.output.renderOutput(dataTable, element);\n",
              "          const docLink = document.createElement('div');\n",
              "          docLink.innerHTML = docLinkHtml;\n",
              "          element.appendChild(docLink);\n",
              "        }\n",
              "      </script>\n",
              "    </div>\n",
              "  </div>\n",
              "  "
            ]
          },
          "metadata": {},
          "execution_count": 5
        }
      ]
    },
    {
      "cell_type": "code",
      "source": [
        "data.shape #Size of Data\n"
      ],
      "metadata": {
        "colab": {
          "base_uri": "https://localhost:8080/"
        },
        "id": "JUXFYheTXABi",
        "outputId": "b7356ebb-039a-4112-a18a-3d68f42330a8"
      },
      "execution_count": null,
      "outputs": [
        {
          "output_type": "execute_result",
          "data": {
            "text/plain": [
              "(51407, 64)"
            ]
          },
          "metadata": {},
          "execution_count": 6
        }
      ]
    },
    {
      "cell_type": "code",
      "source": [
        "data['Bankrupt?'].value_counts() #Label distribution in dataset---- highely imbalanced\n"
      ],
      "metadata": {
        "colab": {
          "base_uri": "https://localhost:8080/"
        },
        "id": "7awZQoBY66hC",
        "outputId": "abb82cfe-5187-4148-b584-779036ad4763"
      },
      "execution_count": null,
      "outputs": [
        {
          "output_type": "execute_result",
          "data": {
            "text/plain": [
              "0    51156\n",
              "1      251\n",
              "Name: Bankrupt?, dtype: int64"
            ]
          },
          "metadata": {},
          "execution_count": 7
        }
      ]
    },
    {
      "cell_type": "markdown",
      "source": [
        "##4.Specifying the vectors and corresponding labels and train-test split"
      ],
      "metadata": {
        "id": "pt1IFxGC6ECy"
      }
    },
    {
      "cell_type": "code",
      "source": [
        "y = data['Bankrupt?']\n",
        "X = data.drop(columns=['Bankrupt?'])\n",
        "X = np.asarray(X).astype(np.float32) # converting vectors to array forms for training in NN model\n",
        "y=tf.keras.utils.to_categorical(y, num_classes=2)\n",
        "class_weight = {0: 1., 1: 30.}\n",
        "\n",
        "X_train, X_test, y_train, y_test = train_test_split(X, y, random_state=42, test_size=0.3)\n"
      ],
      "metadata": {
        "id": "mnkXZL24Xg8-"
      },
      "execution_count": null,
      "outputs": []
    },
    {
      "cell_type": "code",
      "source": [
        ""
      ],
      "metadata": {
        "id": "UlZkdAHCHnW5"
      },
      "execution_count": null,
      "outputs": []
    },
    {
      "cell_type": "markdown",
      "source": [
        "#5. model Construction"
      ],
      "metadata": {
        "id": "HzMMP7iu7N_h"
      }
    },
    {
      "cell_type": "code",
      "source": [
        "NoEpochs= 150 # you can set any number of epochs for training your NN model"
      ],
      "metadata": {
        "id": "Bg_PigWYXqQ6"
      },
      "execution_count": null,
      "outputs": []
    },
    {
      "cell_type": "code",
      "source": [
        "#The code for sequential model is taken from the KERAS library in the reference section (https://keras.io/guides/sequential_model/)\n",
        "def Build_Model():\n",
        "  # fix random seed for reproducibility\n",
        "  np.random.seed(7)\n",
        "  # create model\n",
        "  model = Sequential()\n",
        "  model.add(Dense(12, input_dim=X_train.shape[1], activation='relu'))\n",
        "  model.add(Dense(8, activation='relu'))\n",
        "  model.add(Dense(2, activation='softmax'))\n",
        "  # Compile model\n",
        "  model.compile(loss=\"categorical_crossentropy\", optimizer= \"adam\", metrics=['accuracy'])\n",
        "  # Fit the model\n",
        "  model.fit(X_train, y_train, epochs=NoEpochs,class_weight=class_weight, batch_size=10)\n",
        "  return model\n",
        "\n"
      ],
      "metadata": {
        "id": "Wk9h-zNYXxf7"
      },
      "execution_count": null,
      "outputs": []
    },
    {
      "cell_type": "code",
      "source": [
        "model=Build_Model()"
      ],
      "metadata": {
        "colab": {
          "base_uri": "https://localhost:8080/"
        },
        "id": "lywvSCpGbh74",
        "outputId": "4a81a794-91c6-43b8-b8a1-0842832e1996"
      },
      "execution_count": null,
      "outputs": [
        {
          "output_type": "stream",
          "name": "stdout",
          "text": [
            "Epoch 1/150\n",
            "3599/3599 [==============================] - 10s 2ms/step - loss: 2064.6572 - accuracy: 0.9566\n",
            "Epoch 2/150\n",
            "3599/3599 [==============================] - 8s 2ms/step - loss: 23.1019 - accuracy: 0.9896\n",
            "Epoch 3/150\n",
            "3599/3599 [==============================] - 8s 2ms/step - loss: 9.5796 - accuracy: 0.9914\n",
            "Epoch 4/150\n",
            "3599/3599 [==============================] - 8s 2ms/step - loss: 9.6284 - accuracy: 0.9927\n",
            "Epoch 5/150\n",
            "3599/3599 [==============================] - 8s 2ms/step - loss: 3.5464 - accuracy: 0.9931\n",
            "Epoch 6/150\n",
            "3599/3599 [==============================] - 8s 2ms/step - loss: 31.0983 - accuracy: 0.9943\n",
            "Epoch 7/150\n",
            "3599/3599 [==============================] - 10s 3ms/step - loss: 8.3919 - accuracy: 0.9940\n",
            "Epoch 8/150\n",
            "3599/3599 [==============================] - 10s 3ms/step - loss: 3.5679 - accuracy: 0.9940\n",
            "Epoch 9/150\n",
            "3599/3599 [==============================] - 8s 2ms/step - loss: 2.8658 - accuracy: 0.9943\n",
            "Epoch 10/150\n",
            "3599/3599 [==============================] - 8s 2ms/step - loss: 3.8503 - accuracy: 0.9939\n",
            "Epoch 11/150\n",
            "3599/3599 [==============================] - 8s 2ms/step - loss: 1.7779 - accuracy: 0.9942\n",
            "Epoch 12/150\n",
            "3599/3599 [==============================] - 9s 2ms/step - loss: 0.7613 - accuracy: 0.9947\n",
            "Epoch 13/150\n",
            "3599/3599 [==============================] - 8s 2ms/step - loss: 3.1922 - accuracy: 0.9947\n",
            "Epoch 14/150\n",
            "3599/3599 [==============================] - 8s 2ms/step - loss: 0.9586 - accuracy: 0.9944\n",
            "Epoch 15/150\n",
            "3599/3599 [==============================] - 8s 2ms/step - loss: 0.5420 - accuracy: 0.9946\n",
            "Epoch 16/150\n",
            "3599/3599 [==============================] - 8s 2ms/step - loss: 0.8016 - accuracy: 0.9945\n",
            "Epoch 17/150\n",
            "3599/3599 [==============================] - 8s 2ms/step - loss: 0.7755 - accuracy: 0.9943\n",
            "Epoch 18/150\n",
            "3599/3599 [==============================] - 8s 2ms/step - loss: 0.9121 - accuracy: 0.9947\n",
            "Epoch 19/150\n",
            "3599/3599 [==============================] - 8s 2ms/step - loss: 0.7690 - accuracy: 0.9947\n",
            "Epoch 20/150\n",
            "3599/3599 [==============================] - 8s 2ms/step - loss: 0.6042 - accuracy: 0.9950\n",
            "Epoch 21/150\n",
            "3599/3599 [==============================] - 8s 2ms/step - loss: 0.5118 - accuracy: 0.9948\n",
            "Epoch 22/150\n",
            "3599/3599 [==============================] - 8s 2ms/step - loss: 0.4488 - accuracy: 0.9950\n",
            "Epoch 23/150\n",
            "3599/3599 [==============================] - 8s 2ms/step - loss: 0.5050 - accuracy: 0.9950\n",
            "Epoch 24/150\n",
            "3599/3599 [==============================] - 8s 2ms/step - loss: 0.4888 - accuracy: 0.9949\n",
            "Epoch 25/150\n",
            "3599/3599 [==============================] - 8s 2ms/step - loss: 0.5838 - accuracy: 0.9950\n",
            "Epoch 26/150\n",
            "3599/3599 [==============================] - 8s 2ms/step - loss: 0.4478 - accuracy: 0.9948\n",
            "Epoch 27/150\n",
            "3599/3599 [==============================] - 8s 2ms/step - loss: 0.9251 - accuracy: 0.9950\n",
            "Epoch 28/150\n",
            "3599/3599 [==============================] - 8s 2ms/step - loss: 1.4781 - accuracy: 0.9943\n",
            "Epoch 29/150\n",
            "3599/3599 [==============================] - 8s 2ms/step - loss: 4.5199 - accuracy: 0.9948\n",
            "Epoch 30/150\n",
            "3599/3599 [==============================] - 8s 2ms/step - loss: 0.4422 - accuracy: 0.9950\n",
            "Epoch 31/150\n",
            "3599/3599 [==============================] - 8s 2ms/step - loss: 0.4469 - accuracy: 0.9950\n",
            "Epoch 32/150\n",
            "3599/3599 [==============================] - 8s 2ms/step - loss: 0.4421 - accuracy: 0.9950\n",
            "Epoch 33/150\n",
            "3599/3599 [==============================] - 8s 2ms/step - loss: 1.0357 - accuracy: 0.9941\n",
            "Epoch 34/150\n",
            "3599/3599 [==============================] - 8s 2ms/step - loss: 0.6494 - accuracy: 0.9950\n",
            "Epoch 35/150\n",
            "3599/3599 [==============================] - 8s 2ms/step - loss: 0.4479 - accuracy: 0.9950\n",
            "Epoch 36/150\n",
            "3599/3599 [==============================] - 8s 2ms/step - loss: 0.5640 - accuracy: 0.9950\n",
            "Epoch 37/150\n",
            "3599/3599 [==============================] - 8s 2ms/step - loss: 1.2458 - accuracy: 0.9944\n",
            "Epoch 38/150\n",
            "3599/3599 [==============================] - 8s 2ms/step - loss: 0.4548 - accuracy: 0.9946\n",
            "Epoch 39/150\n",
            "3599/3599 [==============================] - 8s 2ms/step - loss: 2.0624 - accuracy: 0.9949\n",
            "Epoch 40/150\n",
            "3599/3599 [==============================] - 8s 2ms/step - loss: 0.4729 - accuracy: 0.9950\n",
            "Epoch 41/150\n",
            "3599/3599 [==============================] - 8s 2ms/step - loss: 0.5072 - accuracy: 0.9940\n",
            "Epoch 42/150\n",
            "3599/3599 [==============================] - 8s 2ms/step - loss: 0.4411 - accuracy: 0.9950\n",
            "Epoch 43/150\n",
            "3599/3599 [==============================] - 8s 2ms/step - loss: 0.5261 - accuracy: 0.9944\n",
            "Epoch 44/150\n",
            "3599/3599 [==============================] - 8s 2ms/step - loss: 0.4406 - accuracy: 0.9950\n",
            "Epoch 45/150\n",
            "3599/3599 [==============================] - 8s 2ms/step - loss: 0.6072 - accuracy: 0.9948\n",
            "Epoch 46/150\n",
            "3599/3599 [==============================] - 8s 2ms/step - loss: 0.8742 - accuracy: 0.9948\n",
            "Epoch 47/150\n",
            "3599/3599 [==============================] - 8s 2ms/step - loss: 0.5598 - accuracy: 0.9948\n",
            "Epoch 48/150\n",
            "3599/3599 [==============================] - 8s 2ms/step - loss: 5.6250 - accuracy: 0.9950\n",
            "Epoch 49/150\n",
            "3599/3599 [==============================] - 8s 2ms/step - loss: 1.1462 - accuracy: 0.9950\n",
            "Epoch 50/150\n",
            "3599/3599 [==============================] - 8s 2ms/step - loss: 0.4728 - accuracy: 0.9948\n",
            "Epoch 51/150\n",
            "3599/3599 [==============================] - 8s 2ms/step - loss: 0.7871 - accuracy: 0.9950\n",
            "Epoch 52/150\n",
            "3599/3599 [==============================] - 8s 2ms/step - loss: 0.4574 - accuracy: 0.9950\n",
            "Epoch 53/150\n",
            "3599/3599 [==============================] - 8s 2ms/step - loss: 0.6170 - accuracy: 0.9949\n",
            "Epoch 54/150\n",
            "3599/3599 [==============================] - 8s 2ms/step - loss: 0.5940 - accuracy: 0.9932\n",
            "Epoch 55/150\n",
            "3599/3599 [==============================] - 8s 2ms/step - loss: 0.4625 - accuracy: 0.9950\n",
            "Epoch 56/150\n",
            "3599/3599 [==============================] - 8s 2ms/step - loss: 0.4409 - accuracy: 0.9950\n",
            "Epoch 57/150\n",
            "3599/3599 [==============================] - 8s 2ms/step - loss: 7.2291 - accuracy: 0.9917\n",
            "Epoch 58/150\n",
            "3599/3599 [==============================] - 8s 2ms/step - loss: 0.4751 - accuracy: 0.9940\n",
            "Epoch 59/150\n",
            "3599/3599 [==============================] - 8s 2ms/step - loss: 0.4508 - accuracy: 0.9947\n",
            "Epoch 60/150\n",
            "3599/3599 [==============================] - 8s 2ms/step - loss: 0.4427 - accuracy: 0.9948\n",
            "Epoch 61/150\n",
            "3599/3599 [==============================] - 8s 2ms/step - loss: 3.3539 - accuracy: 0.9949\n",
            "Epoch 62/150\n",
            "3599/3599 [==============================] - 8s 2ms/step - loss: 0.4431 - accuracy: 0.9950\n",
            "Epoch 63/150\n",
            "3599/3599 [==============================] - 8s 2ms/step - loss: 0.4418 - accuracy: 0.9950\n",
            "Epoch 64/150\n",
            "3599/3599 [==============================] - 8s 2ms/step - loss: 3.8054 - accuracy: 0.9943\n",
            "Epoch 65/150\n",
            "3599/3599 [==============================] - 8s 2ms/step - loss: 0.4894 - accuracy: 0.9949\n",
            "Epoch 66/150\n",
            "3599/3599 [==============================] - 8s 2ms/step - loss: 0.4972 - accuracy: 0.9949\n",
            "Epoch 67/150\n",
            "3599/3599 [==============================] - 8s 2ms/step - loss: 0.4537 - accuracy: 0.9950\n",
            "Epoch 68/150\n",
            "3599/3599 [==============================] - 8s 2ms/step - loss: 0.7474 - accuracy: 0.9949\n",
            "Epoch 69/150\n",
            "3599/3599 [==============================] - 8s 2ms/step - loss: 0.5327 - accuracy: 0.9943\n",
            "Epoch 70/150\n",
            "3599/3599 [==============================] - 8s 2ms/step - loss: 0.8871 - accuracy: 0.9938\n",
            "Epoch 71/150\n",
            "3599/3599 [==============================] - 8s 2ms/step - loss: 2.6105 - accuracy: 0.9942\n",
            "Epoch 72/150\n",
            "3599/3599 [==============================] - 8s 2ms/step - loss: 1.2218 - accuracy: 0.9949\n",
            "Epoch 73/150\n",
            "3599/3599 [==============================] - 8s 2ms/step - loss: 0.7132 - accuracy: 0.9950\n",
            "Epoch 74/150\n",
            "3599/3599 [==============================] - 8s 2ms/step - loss: 0.4738 - accuracy: 0.9948\n",
            "Epoch 75/150\n",
            "3599/3599 [==============================] - 8s 2ms/step - loss: 0.4419 - accuracy: 0.9950\n",
            "Epoch 76/150\n",
            "3599/3599 [==============================] - 8s 2ms/step - loss: 1.8873 - accuracy: 0.9947\n",
            "Epoch 77/150\n",
            "3599/3599 [==============================] - 8s 2ms/step - loss: 3.4258 - accuracy: 0.9941\n",
            "Epoch 78/150\n",
            "3599/3599 [==============================] - 8s 2ms/step - loss: 0.6368 - accuracy: 0.9949\n",
            "Epoch 79/150\n",
            "3599/3599 [==============================] - 8s 2ms/step - loss: 0.4399 - accuracy: 0.9950\n",
            "Epoch 80/150\n",
            "3599/3599 [==============================] - 8s 2ms/step - loss: 0.8806 - accuracy: 0.9938\n",
            "Epoch 81/150\n",
            "3599/3599 [==============================] - 8s 2ms/step - loss: 0.7255 - accuracy: 0.9938\n",
            "Epoch 82/150\n",
            "3599/3599 [==============================] - 8s 2ms/step - loss: 0.7834 - accuracy: 0.9948\n",
            "Epoch 83/150\n",
            "3599/3599 [==============================] - 8s 2ms/step - loss: 0.4609 - accuracy: 0.9950\n",
            "Epoch 84/150\n",
            "3599/3599 [==============================] - 8s 2ms/step - loss: 0.5062 - accuracy: 0.9944\n",
            "Epoch 85/150\n",
            "3599/3599 [==============================] - 8s 2ms/step - loss: 1.4673 - accuracy: 0.9950\n",
            "Epoch 86/150\n",
            "3599/3599 [==============================] - 8s 2ms/step - loss: 0.4413 - accuracy: 0.9950\n",
            "Epoch 87/150\n",
            "3599/3599 [==============================] - 8s 2ms/step - loss: 0.6525 - accuracy: 0.9945\n",
            "Epoch 88/150\n",
            "3599/3599 [==============================] - 8s 2ms/step - loss: 0.8037 - accuracy: 0.9949\n",
            "Epoch 89/150\n",
            "3599/3599 [==============================] - 8s 2ms/step - loss: 0.4401 - accuracy: 0.9950\n",
            "Epoch 90/150\n",
            "3599/3599 [==============================] - 8s 2ms/step - loss: 0.5578 - accuracy: 0.9950\n",
            "Epoch 91/150\n",
            "3599/3599 [==============================] - 8s 2ms/step - loss: 0.8993 - accuracy: 0.9949\n",
            "Epoch 92/150\n",
            "3599/3599 [==============================] - 8s 2ms/step - loss: 0.4839 - accuracy: 0.9950\n",
            "Epoch 93/150\n",
            "3599/3599 [==============================] - 8s 2ms/step - loss: 0.4401 - accuracy: 0.9950\n",
            "Epoch 94/150\n",
            "3599/3599 [==============================] - 8s 2ms/step - loss: 1.1092 - accuracy: 0.9926\n",
            "Epoch 95/150\n",
            "3599/3599 [==============================] - 8s 2ms/step - loss: 1.5905 - accuracy: 0.9944\n",
            "Epoch 96/150\n",
            "3599/3599 [==============================] - 8s 2ms/step - loss: 1.8052 - accuracy: 0.9942\n",
            "Epoch 97/150\n",
            "3599/3599 [==============================] - 8s 2ms/step - loss: 0.4410 - accuracy: 0.9950\n",
            "Epoch 98/150\n",
            "3599/3599 [==============================] - 8s 2ms/step - loss: 0.7099 - accuracy: 0.9950\n",
            "Epoch 99/150\n",
            "3599/3599 [==============================] - 8s 2ms/step - loss: 0.4642 - accuracy: 0.9949\n",
            "Epoch 100/150\n",
            "3599/3599 [==============================] - 8s 2ms/step - loss: 0.5746 - accuracy: 0.9950\n",
            "Epoch 101/150\n",
            "3599/3599 [==============================] - 8s 2ms/step - loss: 0.4576 - accuracy: 0.9949\n",
            "Epoch 102/150\n",
            "3599/3599 [==============================] - 8s 2ms/step - loss: 0.5130 - accuracy: 0.9950\n",
            "Epoch 103/150\n",
            "3599/3599 [==============================] - 8s 2ms/step - loss: 0.4475 - accuracy: 0.9950\n",
            "Epoch 104/150\n",
            "3599/3599 [==============================] - 8s 2ms/step - loss: 0.4409 - accuracy: 0.9950\n",
            "Epoch 105/150\n",
            "3599/3599 [==============================] - 8s 2ms/step - loss: 2.4860 - accuracy: 0.9939\n",
            "Epoch 106/150\n",
            "3599/3599 [==============================] - 8s 2ms/step - loss: 0.4454 - accuracy: 0.9950\n",
            "Epoch 107/150\n",
            "3599/3599 [==============================] - 8s 2ms/step - loss: 0.4412 - accuracy: 0.9950\n",
            "Epoch 108/150\n",
            "3599/3599 [==============================] - 8s 2ms/step - loss: 2.4608 - accuracy: 0.9935\n",
            "Epoch 109/150\n",
            "3599/3599 [==============================] - 8s 2ms/step - loss: 1.2595 - accuracy: 0.9950\n",
            "Epoch 110/150\n",
            "3599/3599 [==============================] - 8s 2ms/step - loss: 0.4432 - accuracy: 0.9950\n",
            "Epoch 111/150\n",
            "3599/3599 [==============================] - 8s 2ms/step - loss: 0.4427 - accuracy: 0.9950\n",
            "Epoch 112/150\n",
            "3599/3599 [==============================] - 8s 2ms/step - loss: 0.7193 - accuracy: 0.9948\n",
            "Epoch 113/150\n",
            "3599/3599 [==============================] - 8s 2ms/step - loss: 1.1807 - accuracy: 0.9944\n",
            "Epoch 114/150\n",
            "3599/3599 [==============================] - 8s 2ms/step - loss: 0.4470 - accuracy: 0.9949\n",
            "Epoch 115/150\n",
            "3599/3599 [==============================] - 8s 2ms/step - loss: 1.7689 - accuracy: 0.9948\n",
            "Epoch 116/150\n",
            "3599/3599 [==============================] - 8s 2ms/step - loss: 0.4493 - accuracy: 0.9948\n",
            "Epoch 117/150\n",
            "3599/3599 [==============================] - 8s 2ms/step - loss: 0.4412 - accuracy: 0.9950\n",
            "Epoch 118/150\n",
            "3599/3599 [==============================] - 8s 2ms/step - loss: 0.5342 - accuracy: 0.9947\n",
            "Epoch 119/150\n",
            "3599/3599 [==============================] - 8s 2ms/step - loss: 5.3324 - accuracy: 0.9944\n",
            "Epoch 120/150\n",
            "3599/3599 [==============================] - 8s 2ms/step - loss: 0.6405 - accuracy: 0.9948\n",
            "Epoch 121/150\n",
            "3599/3599 [==============================] - 8s 2ms/step - loss: 0.4963 - accuracy: 0.9950\n",
            "Epoch 122/150\n",
            "3599/3599 [==============================] - 8s 2ms/step - loss: 0.9282 - accuracy: 0.9950\n",
            "Epoch 123/150\n",
            "3599/3599 [==============================] - 8s 2ms/step - loss: 1.1009 - accuracy: 0.9950\n",
            "Epoch 124/150\n",
            "3599/3599 [==============================] - 8s 2ms/step - loss: 1.6292 - accuracy: 0.9950\n",
            "Epoch 125/150\n",
            "3599/3599 [==============================] - 8s 2ms/step - loss: 0.5004 - accuracy: 0.9944\n",
            "Epoch 126/150\n",
            "3599/3599 [==============================] - 8s 2ms/step - loss: 0.4403 - accuracy: 0.9950\n",
            "Epoch 127/150\n",
            "3599/3599 [==============================] - 8s 2ms/step - loss: 0.9825 - accuracy: 0.9950\n",
            "Epoch 128/150\n",
            "3599/3599 [==============================] - 8s 2ms/step - loss: 0.4828 - accuracy: 0.9949\n",
            "Epoch 129/150\n",
            "3599/3599 [==============================] - 8s 2ms/step - loss: 0.4547 - accuracy: 0.9950\n",
            "Epoch 130/150\n",
            "3599/3599 [==============================] - 8s 2ms/step - loss: 1.8638 - accuracy: 0.9950\n",
            "Epoch 131/150\n",
            "3599/3599 [==============================] - 8s 2ms/step - loss: 0.7921 - accuracy: 0.9948\n",
            "Epoch 132/150\n",
            "3599/3599 [==============================] - 8s 2ms/step - loss: 0.4409 - accuracy: 0.9950\n",
            "Epoch 133/150\n",
            "3599/3599 [==============================] - 8s 2ms/step - loss: 0.4407 - accuracy: 0.9950\n",
            "Epoch 134/150\n",
            "3599/3599 [==============================] - 8s 2ms/step - loss: 0.4405 - accuracy: 0.9950\n",
            "Epoch 135/150\n",
            "3599/3599 [==============================] - 8s 2ms/step - loss: 0.7111 - accuracy: 0.9947\n",
            "Epoch 136/150\n",
            "3599/3599 [==============================] - 8s 2ms/step - loss: 0.4406 - accuracy: 0.9950\n",
            "Epoch 137/150\n",
            "3599/3599 [==============================] - 8s 2ms/step - loss: 1.0456 - accuracy: 0.9946\n",
            "Epoch 138/150\n",
            "3599/3599 [==============================] - 8s 2ms/step - loss: 1.4592 - accuracy: 0.9947\n",
            "Epoch 139/150\n",
            "3599/3599 [==============================] - 8s 2ms/step - loss: 0.4424 - accuracy: 0.9950\n",
            "Epoch 140/150\n",
            "3599/3599 [==============================] - 8s 2ms/step - loss: 0.4424 - accuracy: 0.9950\n",
            "Epoch 141/150\n",
            "3599/3599 [==============================] - 8s 2ms/step - loss: 0.5622 - accuracy: 0.9934\n",
            "Epoch 142/150\n",
            "3599/3599 [==============================] - 8s 2ms/step - loss: 0.8386 - accuracy: 0.9947\n",
            "Epoch 143/150\n",
            "3599/3599 [==============================] - 8s 2ms/step - loss: 0.4714 - accuracy: 0.9950\n",
            "Epoch 144/150\n",
            "3599/3599 [==============================] - 8s 2ms/step - loss: 0.6447 - accuracy: 0.9945\n",
            "Epoch 145/150\n",
            "3599/3599 [==============================] - 8s 2ms/step - loss: 0.4455 - accuracy: 0.9950\n",
            "Epoch 146/150\n",
            "3599/3599 [==============================] - 8s 2ms/step - loss: 1.4161 - accuracy: 0.9942\n",
            "Epoch 147/150\n",
            "3599/3599 [==============================] - 8s 2ms/step - loss: 1.0527 - accuracy: 0.9950\n",
            "Epoch 148/150\n",
            "3599/3599 [==============================] - 8s 2ms/step - loss: 0.6291 - accuracy: 0.9950\n",
            "Epoch 149/150\n",
            "3599/3599 [==============================] - 8s 2ms/step - loss: 0.6613 - accuracy: 0.9940\n",
            "Epoch 150/150\n",
            "3599/3599 [==============================] - 8s 2ms/step - loss: 0.4530 - accuracy: 0.9948\n"
          ]
        }
      ]
    },
    {
      "cell_type": "markdown",
      "source": [
        "Evaluate the model on test set"
      ],
      "metadata": {
        "id": "z9y7YVNJ7XF_"
      }
    },
    {
      "cell_type": "code",
      "source": [
        "\n",
        "scores = model.evaluate(X_test, y_test)\n",
        "print(\"\\n%s: %.2f%%\" % (model.metrics_names[1], scores[1]*100))"
      ],
      "metadata": {
        "colab": {
          "base_uri": "https://localhost:8080/"
        },
        "id": "bSi6EjPrYLFk",
        "outputId": "45f6fee8-d55b-49e3-cd70-65ae57fc652c"
      },
      "execution_count": null,
      "outputs": [
        {
          "output_type": "stream",
          "name": "stdout",
          "text": [
            "482/482 [==============================] - 1s 2ms/step - loss: 1.5448 - accuracy: 0.9953\n",
            "\n",
            "accuracy: 99.53%\n"
          ]
        }
      ]
    },
    {
      "cell_type": "markdown",
      "source": [
        "Visualizing the model and layers structures, istructure of thet helps us understand the structure of the sequential model. "
      ],
      "metadata": {
        "id": "9sRckv5Hboik"
      }
    },
    {
      "cell_type": "code",
      "source": [
        "#plot model shows the structure of the sequential model with the explaiantion of every layer. It is a keras feature. \n",
        "plot_model(model, to_file='model_plot.png', show_shapes=True, show_layer_names=True)"
      ],
      "metadata": {
        "colab": {
          "base_uri": "https://localhost:8080/",
          "height": 422
        },
        "id": "3OxYzY_nZLR-",
        "outputId": "1d1b6e73-df54-4661-aa11-26ea15197379"
      },
      "execution_count": null,
      "outputs": [
        {
          "output_type": "execute_result",
          "data": {
            "text/plain": [
              "<IPython.core.display.Image object>"
            ],
            "image/png": "[encoded data removed]"
          },
          "metadata": {},
          "execution_count": 13
        }
      ]
    },
    {
      "cell_type": "markdown",
      "source": [
        "Graphical representation of model"
      ],
      "metadata": {
        "id": "GfN4G_bZ7g5z"
      }
    },
    {
      "cell_type": "code",
      "source": [
        "ann_viz(model, title=\"Model\")\n",
        "#download image from network.gv.pdf"
      ],
      "metadata": {
        "id": "Wp5k4k_0ZG9K"
      },
      "execution_count": null,
      "outputs": []
    },
    {
      "cell_type": "markdown",
      "source": [
        "#6. Genetic Algorithm\n",
        "\n",
        "## The code for genetic algorithm is taken from the pygad library documentation \n",
        "\n",
        "\n"
      ],
      "metadata": {
        "id": "lovS_s9T70lr"
      }
    },
    {
      "cell_type": "markdown",
      "source": [
        "Assigning input data and output data"
      ],
      "metadata": {
        "id": "PnAwz8GM75mO"
      }
    },
    {
      "cell_type": "code",
      "source": [
        "#Data input\n",
        "data_inputs = X_train\n",
        "# Data outputs\n",
        "data_outputs =y_train"
      ],
      "metadata": {
        "id": "ODqlrtaOZWqb"
      },
      "execution_count": null,
      "outputs": []
    },
    {
      "cell_type": "markdown",
      "source": [
        "## 6.1 Functions required for training NN model with GA"
      ],
      "metadata": {
        "id": "SnCGuuwS8C7L"
      }
    },
    {
      "cell_type": "markdown",
      "source": [
        "###Fitness Function: \n",
        "The steps used to calculate the fitness value of the model are as follows:\n",
        "\n",
        "Restore the model parameters from the 1-D vector.\n",
        "\n",
        "1.   Set the model parameters.\n",
        "2.   Make predictions.\n",
        "3.   Calculate the loss value.\n",
        "4.   Calculate the fitness value.\n",
        "5.   Return the fitness value."
      ],
      "metadata": {
        "id": "5QHq5cOk9o2d"
      }
    },
    {
      "cell_type": "code",
      "source": [
        "#code taken from the pygad library https://pygad.readthedocs.io/en/latest/README_pygad_ReadTheDocs.html\n",
        "def fitness_func(solution, sol_idx):\n",
        "    global data_inputs, data_outputs, keras_ga, model\n",
        "\n",
        "    model_weights_matrix = pygad.kerasga.model_weights_as_matrix(model=model,\n",
        "                                                                 weights_vector=solution)\n",
        "\n",
        "    model.set_weights(weights=model_weights_matrix)\n",
        "\n",
        "    predictions = model.predict(data_inputs)\n",
        "\n",
        "    cce = tensorflow.keras.losses.CategoricalCrossentropy()\n",
        "    solution_fitness = 1.0 / (cce(data_outputs, predictions).numpy() + 0.00000001)\n",
        "\n",
        "    return solution_fitness"
      ],
      "metadata": {
        "id": "OMyLlUbR-I5g"
      },
      "execution_count": null,
      "outputs": []
    },
    {
      "cell_type": "markdown",
      "source": [
        "###Generation Callback Function\n",
        "A callback function will be called after each generation completes to calculate some statistics about the latest parameters reached.\n",
        "\n",
        "This function accepts a parameter referring to the instance of the genetic algorithm, by which the current population will be fetched using the population attribute.\n",
        "\n",
        "This function prints the current generation number and the fitness value of the best solution. Such information keeps the user updated on the progress of the genetic algorithm.\n"
      ],
      "metadata": {
        "id": "SJQbu7AB-RoZ"
      }
    },
    {
      "cell_type": "code",
      "source": [
        "#code taken from the pygad library https://pygad.readthedocs.io/en/latest/README_pygad_ReadTheDocs.html\n",
        "def callback_generation(ga_instance):\n",
        "    print(\"Generation = {generation}\".format(generation=ga_instance.generations_completed))\n",
        "    print(\"Fitness    = {fitness}\".format(fitness=ga_instance.best_solution()[1]))"
      ],
      "metadata": {
        "id": "xZBkwvmR-xZ5"
      },
      "execution_count": null,
      "outputs": []
    },
    {
      "cell_type": "code",
      "source": [
        "#Create an Instance of the pygad.GA Class\n",
        "keras_ga = pygad.kerasga.KerasGA(model=model,num_solutions=10)#the number of solutions within the population was set to 10\n"
      ],
      "metadata": {
        "id": "EEHoMFP1aUrV"
      },
      "execution_count": null,
      "outputs": []
    },
    {
      "cell_type": "markdown",
      "source": [
        "###The next code block instantiates the pygad.GA class by passing the minimum number of arguments for this application"
      ],
      "metadata": {
        "id": "F6PSqfOe_DbF"
      }
    },
    {
      "cell_type": "code",
      "source": [
        "NoGenerations=150 # you can set different values"
      ],
      "metadata": {
        "id": "77MuXyZqAEVw"
      },
      "execution_count": null,
      "outputs": []
    },
    {
      "cell_type": "code",
      "source": [
        "# Code taken from the pygad library https://pygad.readthedocs.io/en/latest/README_pygad_ReadTheDocs.html\n",
        "num_generations = NoGenerations\n",
        "num_parents_mating = 5 #the number of parents to mate must be less than 10 (number of solutions).\n",
        "initial_population = keras_ga.population_weights\n",
        "\n",
        "ga_instance = pygad.GA(num_generations=num_generations, \n",
        "                       num_parents_mating=num_parents_mating, \n",
        "                       initial_population=initial_population,\n",
        "                       fitness_func=fitness_func,\n",
        "                       on_generation=callback_generation)\n",
        "\n"
      ],
      "metadata": {
        "id": "hIFkNVfKdI1J"
      },
      "execution_count": null,
      "outputs": []
    },
    {
      "cell_type": "markdown",
      "source": [
        "##6.2 Run the Genetic Algorithm"
      ],
      "metadata": {
        "id": "rlsMJ_kh_7ok"
      }
    },
    {
      "cell_type": "code",
      "source": [
        "ga_instance.run()"
      ],
      "metadata": {
        "colab": {
          "base_uri": "https://localhost:8080/"
        },
        "id": "BJc6FtuI_M7m",
        "outputId": "ce536c7a-ef20-46fc-c3d8-d0cd64c4d077"
      },
      "execution_count": null,
      "outputs": [
        {
          "output_type": "stream",
          "name": "stdout",
          "text": [
            "Generation = 1\n",
            "Fitness    = 12.73962409600859\n",
            "Generation = 2\n",
            "Fitness    = 13.759006965831263\n",
            "Generation = 3\n",
            "Fitness    = 13.759006965831263\n",
            "Generation = 4\n",
            "Fitness    = 13.759006965831263\n",
            "Generation = 5\n",
            "Fitness    = 13.963232985633597\n",
            "Generation = 6\n",
            "Fitness    = 15.927410331442438\n",
            "Generation = 7\n",
            "Fitness    = 17.80744256885512\n",
            "Generation = 8\n",
            "Fitness    = 17.80744256885512\n",
            "Generation = 9\n",
            "Fitness    = 17.80744256885512\n",
            "Generation = 10\n",
            "Fitness    = 17.80744256885512\n",
            "Generation = 11\n",
            "Fitness    = 17.952440320977587\n",
            "Generation = 12\n",
            "Fitness    = 18.556982968020396\n",
            "Generation = 13\n",
            "Fitness    = 18.556982968020396\n",
            "Generation = 14\n",
            "Fitness    = 18.556982968020396\n",
            "Generation = 15\n",
            "Fitness    = 18.66706670099459\n",
            "Generation = 16\n",
            "Fitness    = 18.66706670099459\n",
            "Generation = 17\n",
            "Fitness    = 19.851943755585896\n",
            "Generation = 18\n",
            "Fitness    = 19.851943755585896\n",
            "Generation = 19\n",
            "Fitness    = 19.851943755585896\n",
            "Generation = 20\n",
            "Fitness    = 20.277856227887316\n",
            "Generation = 21\n",
            "Fitness    = 20.716097502430323\n",
            "Generation = 22\n",
            "Fitness    = 20.905158071149437\n",
            "Generation = 23\n",
            "Fitness    = 20.905158071149437\n",
            "Generation = 24\n",
            "Fitness    = 20.967911742879387\n",
            "Generation = 25\n",
            "Fitness    = 22.147309073025486\n",
            "Generation = 26\n",
            "Fitness    = 24.141527611476636\n",
            "Generation = 27\n",
            "Fitness    = 24.141527611476636\n",
            "Generation = 28\n",
            "Fitness    = 24.141527611476636\n",
            "Generation = 29\n",
            "Fitness    = 24.141527611476636\n",
            "Generation = 30\n",
            "Fitness    = 24.141527611476636\n",
            "Generation = 31\n",
            "Fitness    = 26.587471862722797\n",
            "Generation = 32\n",
            "Fitness    = 26.587471862722797\n",
            "Generation = 33\n",
            "Fitness    = 26.587471862722797\n",
            "Generation = 34\n",
            "Fitness    = 26.587471862722797\n",
            "Generation = 35\n",
            "Fitness    = 26.587471862722797\n",
            "Generation = 36\n",
            "Fitness    = 26.587471862722797\n",
            "Generation = 37\n",
            "Fitness    = 26.587471862722797\n",
            "Generation = 38\n",
            "Fitness    = 26.587471862722797\n",
            "Generation = 39\n",
            "Fitness    = 27.35910694670279\n",
            "Generation = 40\n",
            "Fitness    = 27.35910694670279\n",
            "Generation = 41\n",
            "Fitness    = 27.35910694670279\n",
            "Generation = 42\n",
            "Fitness    = 27.993832663436013\n",
            "Generation = 43\n",
            "Fitness    = 27.993832663436013\n",
            "Generation = 44\n",
            "Fitness    = 28.283946042509093\n",
            "Generation = 45\n",
            "Fitness    = 28.283946042509093\n",
            "Generation = 46\n",
            "Fitness    = 28.283946042509093\n",
            "Generation = 47\n",
            "Fitness    = 28.283946042509093\n",
            "Generation = 48\n",
            "Fitness    = 28.283946042509093\n",
            "Generation = 49\n",
            "Fitness    = 28.283946042509093\n",
            "Generation = 50\n",
            "Fitness    = 28.283946042509093\n",
            "Generation = 51\n",
            "Fitness    = 28.283946042509093\n",
            "Generation = 52\n",
            "Fitness    = 28.283946042509093\n",
            "Generation = 53\n",
            "Fitness    = 28.283946042509093\n",
            "Generation = 54\n",
            "Fitness    = 28.283946042509093\n",
            "Generation = 55\n",
            "Fitness    = 28.283946042509093\n",
            "Generation = 56\n",
            "Fitness    = 28.541303081663504\n",
            "Generation = 57\n",
            "Fitness    = 28.541303081663504\n",
            "Generation = 58\n",
            "Fitness    = 28.541303081663504\n",
            "Generation = 59\n",
            "Fitness    = 28.541303081663504\n",
            "Generation = 60\n",
            "Fitness    = 28.541303081663504\n",
            "Generation = 61\n",
            "Fitness    = 28.541303081663504\n",
            "Generation = 62\n",
            "Fitness    = 28.541303081663504\n",
            "Generation = 63\n",
            "Fitness    = 28.994165549488482\n",
            "Generation = 64\n",
            "Fitness    = 28.994165549488482\n",
            "Generation = 65\n",
            "Fitness    = 29.25781033297446\n",
            "Generation = 66\n",
            "Fitness    = 29.25781033297446\n",
            "Generation = 67\n",
            "Fitness    = 29.25781033297446\n",
            "Generation = 68\n",
            "Fitness    = 29.25781033297446\n",
            "Generation = 69\n",
            "Fitness    = 29.260820984174398\n",
            "Generation = 70\n",
            "Fitness    = 29.260820984174398\n",
            "Generation = 71\n",
            "Fitness    = 29.52662504445948\n",
            "Generation = 72\n",
            "Fitness    = 29.52662504445948\n",
            "Generation = 73\n",
            "Fitness    = 29.52662504445948\n",
            "Generation = 74\n",
            "Fitness    = 29.52662504445948\n",
            "Generation = 75\n",
            "Fitness    = 29.52662504445948\n",
            "Generation = 76\n",
            "Fitness    = 29.52662504445948\n",
            "Generation = 77\n",
            "Fitness    = 29.52662504445948\n",
            "Generation = 78\n",
            "Fitness    = 29.52662504445948\n",
            "Generation = 79\n",
            "Fitness    = 29.794964184685345\n",
            "Generation = 80\n",
            "Fitness    = 29.794964184685345\n",
            "Generation = 81\n",
            "Fitness    = 29.794964184685345\n",
            "Generation = 82\n",
            "Fitness    = 29.794964184685345\n",
            "Generation = 83\n",
            "Fitness    = 29.794964184685345\n",
            "Generation = 84\n",
            "Fitness    = 29.804849044368346\n",
            "Generation = 85\n",
            "Fitness    = 29.804849044368346\n",
            "Generation = 86\n",
            "Fitness    = 29.804849044368346\n",
            "Generation = 87\n",
            "Fitness    = 29.804849044368346\n",
            "Generation = 88\n",
            "Fitness    = 29.808860435790475\n",
            "Generation = 89\n",
            "Fitness    = 29.808860435790475\n",
            "Generation = 90\n",
            "Fitness    = 30.12905017587331\n",
            "Generation = 91\n",
            "Fitness    = 30.12905017587331\n",
            "Generation = 92\n",
            "Fitness    = 30.12905017587331\n",
            "Generation = 93\n",
            "Fitness    = 30.12905017587331\n",
            "Generation = 94\n",
            "Fitness    = 30.12905017587331\n",
            "Generation = 95\n",
            "Fitness    = 30.13128900661981\n",
            "Generation = 96\n",
            "Fitness    = 30.13128900661981\n",
            "Generation = 97\n",
            "Fitness    = 30.13128900661981\n",
            "Generation = 98\n",
            "Fitness    = 30.13128900661981\n",
            "Generation = 99\n",
            "Fitness    = 30.13128900661981\n",
            "Generation = 100\n",
            "Fitness    = 30.13128900661981\n",
            "Generation = 101\n",
            "Fitness    = 30.13128900661981\n",
            "Generation = 102\n",
            "Fitness    = 30.13128900661981\n",
            "Generation = 103\n",
            "Fitness    = 30.13128900661981\n",
            "Generation = 104\n",
            "Fitness    = 30.13128900661981\n",
            "Generation = 105\n",
            "Fitness    = 30.13128900661981\n",
            "Generation = 106\n",
            "Fitness    = 30.143418970353387\n",
            "Generation = 107\n",
            "Fitness    = 30.143418970353387\n",
            "Generation = 108\n",
            "Fitness    = 30.143418970353387\n",
            "Generation = 109\n",
            "Fitness    = 30.143418970353387\n",
            "Generation = 110\n",
            "Fitness    = 30.143418970353387\n",
            "Generation = 111\n",
            "Fitness    = 30.143418970353387\n",
            "Generation = 112\n",
            "Fitness    = 30.143418970353387\n",
            "Generation = 113\n",
            "Fitness    = 30.143418970353387\n",
            "Generation = 114\n",
            "Fitness    = 30.143418970353387\n",
            "Generation = 115\n",
            "Fitness    = 30.143418970353387\n",
            "Generation = 116\n",
            "Fitness    = 30.143418970353387\n",
            "Generation = 117\n",
            "Fitness    = 30.143418970353387\n",
            "Generation = 118\n",
            "Fitness    = 30.49606655284158\n",
            "Generation = 119\n",
            "Fitness    = 30.49606655284158\n",
            "Generation = 120\n",
            "Fitness    = 30.49606655284158\n",
            "Generation = 121\n",
            "Fitness    = 30.49606655284158\n",
            "Generation = 122\n",
            "Fitness    = 30.49606655284158\n",
            "Generation = 123\n",
            "Fitness    = 30.506384029995154\n",
            "Generation = 124\n",
            "Fitness    = 30.506384029995154\n",
            "Generation = 125\n",
            "Fitness    = 30.506384029995154\n",
            "Generation = 126\n",
            "Fitness    = 30.506384029995154\n",
            "Generation = 127\n",
            "Fitness    = 30.506384029995154\n",
            "Generation = 128\n",
            "Fitness    = 30.506384029995154\n",
            "Generation = 129\n",
            "Fitness    = 30.506384029995154\n",
            "Generation = 130\n",
            "Fitness    = 30.506384029995154\n",
            "Generation = 131\n",
            "Fitness    = 30.506384029995154\n",
            "Generation = 132\n",
            "Fitness    = 30.506384029995154\n",
            "Generation = 133\n",
            "Fitness    = 30.506384029995154\n",
            "Generation = 134\n",
            "Fitness    = 30.506384029995154\n",
            "Generation = 135\n",
            "Fitness    = 30.506384029995154\n",
            "Generation = 136\n",
            "Fitness    = 30.506384029995154\n",
            "Generation = 137\n",
            "Fitness    = 30.506384029995154\n",
            "Generation = 138\n",
            "Fitness    = 30.506384029995154\n",
            "Generation = 139\n",
            "Fitness    = 30.506384029995154\n",
            "Generation = 140\n",
            "Fitness    = 30.506384029995154\n",
            "Generation = 141\n",
            "Fitness    = 30.506384029995154\n",
            "Generation = 142\n",
            "Fitness    = 30.506384029995154\n",
            "Generation = 143\n",
            "Fitness    = 30.506384029995154\n",
            "Generation = 144\n",
            "Fitness    = 30.506384029995154\n",
            "Generation = 145\n",
            "Fitness    = 30.506384029995154\n",
            "Generation = 146\n",
            "Fitness    = 30.506384029995154\n",
            "Generation = 147\n",
            "Fitness    = 30.506384029995154\n",
            "Generation = 148\n",
            "Fitness    = 30.506384029995154\n",
            "Generation = 149\n",
            "Fitness    = 30.506384029995154\n",
            "Generation = 150\n",
            "Fitness    = 30.506384029995154\n"
          ]
        }
      ]
    },
    {
      "cell_type": "markdown",
      "source": [
        "#7. Results and Visualizations"
      ],
      "metadata": {
        "id": "Q9wNkea5At5k"
      }
    },
    {
      "cell_type": "code",
      "source": [
        "#Simple visualization code written with the help of keras library\n",
        "\n",
        "ga_instance.plot_result(title=\"PyGAD & Keras - Iteration vs. Fitness\", linewidth=4)#Using the plot_result() method in the pygad.GA class, PyGAD creates a figure that shows how the fitness value changes per generation.\n",
        "\n",
        "# Returning the details of the best solution.\n",
        "solution, solution_fitness, solution_idx = ga_instance.best_solution()\n",
        "print(\"Fitness value of the best solution = {solution_fitness}\".format(solution_fitness=solution_fitness))\n",
        "print(\"Index of the best solution : {solution_idx}\".format(solution_idx=solution_idx))\n",
        "\n",
        "# Fetch the parameters of the best solution.\n",
        "best_solution_weights = pygad.kerasga.model_weights_as_matrix(model=model,\n",
        "                                                              weights_vector=solution)\n",
        "model.set_weights(best_solution_weights)\n",
        "predictions = model.predict(np.array(X_test))\n",
        "# print(\"Predictions : \\n\", predictions)\n",
        "\n",
        "# Calculate the categorical crossentropy for the trained model.\n",
        "cce = tensorflow.keras.losses.CategoricalCrossentropy()\n",
        "print(\"Binary Crossentropy : \", cce(y_test, predictions).numpy())\n",
        "\n",
        "# Calculate the classification accuracy for the trained model.\n",
        "ca = tensorflow.keras.metrics.BinaryAccuracy()\n",
        "\n",
        "ca.update_state(y_test, predictions)\n",
        "accuracy = ca.result().numpy()\n",
        "print(\"Accuracy : \", accuracy)"
      ],
      "metadata": {
        "colab": {
          "base_uri": "https://localhost:8080/",
          "height": 424
        },
        "id": "Qd2bI2Yj_2ve",
        "outputId": "eb7f3a35-2974-4f29-bafe-cf48d1759bb7"
      },
      "execution_count": null,
      "outputs": [
        {
          "output_type": "stream",
          "name": "stderr",
          "text": [
            "/usr/local/lib/python3.7/dist-packages/pygad/pygad.py:3279: UserWarning: Please use the plot_fitness() method instead of plot_result(). The plot_result() method will be removed in the future.\n",
            "  warnings.warn(\"Please use the plot_fitness() method instead of plot_result(). The plot_result() method will be removed in the future.\")\n"
          ]
        },
        {
          "output_type": "display_data",
          "data": {
            "text/plain": [
              "<Figure size 432x288 with 1 Axes>"
            ],
            "image/png": "[encoded data removed]"
          },
          "metadata": {
            "needs_background": "light"
          }
        },
        {
          "output_type": "stream",
          "name": "stdout",
          "text": [
            "Fitness value of the best solution = 30.506384029995154\n",
            "Index of the best solution : 0\n",
            "Binary Crossentropy :  0.033153705\n",
            "Accuracy :  0.99533165\n"
          ]
        }
      ]
    },
    {
      "cell_type": "markdown",
      "source": [
        "# Test function to test any row in  the dataset"
      ],
      "metadata": {
        "id": "oQ8jImoEE-R5"
      }
    },
    {
      "cell_type": "code",
      "source": [
        "#Test function\n",
        "\n",
        "def Test_Function(inputRow):\n",
        "  pred=model.predict(np.array(inputRow))\n",
        "  pred=np.argmax(pred)\n",
        "  return pred"
      ],
      "metadata": {
        "id": "anVVVTcJ9Afl"
      },
      "execution_count": null,
      "outputs": []
    },
    {
      "cell_type": "code",
      "source": [
        "Test_Function(X_test[0:1])"
      ],
      "metadata": {
        "colab": {
          "base_uri": "https://localhost:8080/"
        },
        "id": "E_FQBKq82AMN",
        "outputId": "40f2956a-589a-43dd-d72b-ce9408f82139"
      },
      "execution_count": null,
      "outputs": [
        {
          "output_type": "execute_result",
          "data": {
            "text/plain": [
              "0"
            ]
          },
          "metadata": {},
          "execution_count": 24
        }
      ]
    },
    {
      "cell_type": "code",
      "source": [
        "Test_Function(X_test[1:2])"
      ],
      "metadata": {
        "colab": {
          "base_uri": "https://localhost:8080/"
        },
        "id": "GyouNqLg2Ds5",
        "outputId": "e91ee32f-99e4-44a5-fb4c-5056d44d7ae5"
      },
      "execution_count": null,
      "outputs": [
        {
          "output_type": "execute_result",
          "data": {
            "text/plain": [
              "0"
            ]
          },
          "metadata": {},
          "execution_count": 25
        }
      ]
    },
    {
      "cell_type": "code",
      "source": [
        "Test_Function(X_test[10:11])"
      ],
      "metadata": {
        "colab": {
          "base_uri": "https://localhost:8080/"
        },
        "id": "ZwLbKBTHLjYu",
        "outputId": "b6f13544-7ab3-4898-ea78-f63cced5c15f"
      },
      "execution_count": null,
      "outputs": [
        {
          "output_type": "execute_result",
          "data": {
            "text/plain": [
              "0"
            ]
          },
          "metadata": {},
          "execution_count": 26
        }
      ]
    },
    {
      "cell_type": "markdown",
      "source": [
        "Since the dataset is very highely imbalanced we are finding index of all samples that are predicted as 1 and then testing the model for those samples"
      ],
      "metadata": {
        "id": "1zz3jIk5L8GU"
      }
    },
    {
      "cell_type": "code",
      "source": [
        "for index in range(len(X_test)):\n",
        "  if Test_Function(X_test[index:index+1])==1:\n",
        "    print(index)"
      ],
      "metadata": {
        "id": "ZnX0oj9-2T-A"
      },
      "execution_count": null,
      "outputs": []
    },
    {
      "cell_type": "code",
      "source": [
        "Test_Function(X_test[1154:1155])"
      ],
      "metadata": {
        "colab": {
          "base_uri": "https://localhost:8080/"
        },
        "id": "LUjBFlK19IJ_",
        "outputId": "3d3effbd-09fa-436d-907b-5aa98380b96e"
      },
      "execution_count": null,
      "outputs": [
        {
          "output_type": "execute_result",
          "data": {
            "text/plain": [
              "0"
            ]
          },
          "metadata": {},
          "execution_count": 28
        }
      ]
    },
    {
      "cell_type": "code",
      "source": [
        "Test_Function(X_test[10464:10465])"
      ],
      "metadata": {
        "colab": {
          "base_uri": "https://localhost:8080/"
        },
        "id": "9b6hDZHkLvgo",
        "outputId": "a62401e4-f989-4696-91db-fd00d9726a0c"
      },
      "execution_count": null,
      "outputs": [
        {
          "output_type": "execute_result",
          "data": {
            "text/plain": [
              "0"
            ]
          },
          "metadata": {},
          "execution_count": 29
        }
      ]
    },
    {
      "cell_type": "code",
      "source": [
        "Test_Function(X_test[11109:11110])"
      ],
      "metadata": {
        "colab": {
          "base_uri": "https://localhost:8080/"
        },
        "id": "gAi1jwBaL24D",
        "outputId": "9dcc9a97-0c4d-43e2-f493-173e1fc7e602"
      },
      "execution_count": null,
      "outputs": [
        {
          "output_type": "execute_result",
          "data": {
            "text/plain": [
              "0"
            ]
          },
          "metadata": {},
          "execution_count": 30
        }
      ]
    },
    {
      "cell_type": "markdown",
      "source": [
        "# References\n",
        "\n",
        "\n",
        "*   https://pygad.readthedocs.io/en/latest/\n",
        "*   https://keras.io/api/models/sequential/\n",
        "*   https://www.ncbi.nlm.nih.gov/pmc/articles/PMC5603862/\n",
        "*   https://scialert.net/fulltext/?doi=jas.2006.775.778\n",
        "*   https://blog.paperspace.com/train-keras-models-using-genetic-algorithm-with-pygad/\n",
        "*   https://www.youtube.com/watch?v=QQKYrmF4QUY \n"
      ],
      "metadata": {
        "id": "FJMp0mXgVJUA"
      }
    }
  ]
}